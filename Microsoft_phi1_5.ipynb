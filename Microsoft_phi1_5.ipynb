{
  "nbformat": 4,
  "nbformat_minor": 0,
  "metadata": {
    "colab": {
      "provenance": [],
      "gpuType": "T4"
    },
    "kernelspec": {
      "name": "python3",
      "display_name": "Python 3"
    },
    "language_info": {
      "name": "python"
    },
    "accelerator": "GPU"
  },
  "cells": [
    {
      "cell_type": "code",
      "source": [
        "#by-TusharPaul\n",
        "\n",
        "import torch\n",
        "from transformers import AutoModelForCausalLM, AutoTokenizer\n",
        "!pip install einops\n",
        "\n",
        "import einops\n",
        "\n",
        "# Uncomment the line below if you haven't installed the einops library yet\n",
        "# !pip install einops\n",
        "\n",
        "# Make sure to set the default device before loading the model\n",
        "torch.set_default_device(\"cuda\")\n",
        "\n",
        "# Load the model and tokenizer\n",
        "model = AutoModelForCausalLM.from_pretrained(\"microsoft/phi-1_5\", torch_dtype=torch.float32, trust_remote_code=True)\n",
        "tokenizer = AutoTokenizer.from_pretrained(\"microsoft/phi-1_5\", trust_remote_code=True)\n",
        "\n",
        "# Use einops to fix the code block indentation\n",
        "code = 'def print_prime(n): \"\"\" Print all primes between 1 and n \"\"\"'\n",
        "\n",
        "# Tokenize the input code\n",
        "inputs = tokenizer(code, return_tensors=\"pt\", return_attention_mask=False)\n",
        "\n",
        "# Generate text with the model\n",
        "outputs = model.generate(**inputs, max_length=200)\n",
        "text = tokenizer.batch_decode(outputs)[0]\n",
        "print(text)\n"
      ],
      "metadata": {
        "colab": {
          "base_uri": "https://localhost:8080/"
        },
        "id": "b2hqI6WDfcZ8",
        "outputId": "84d63d2a-b904-4f5f-a4ea-2fc5055492ff"
      },
      "execution_count": 3,
      "outputs": [
        {
          "output_type": "stream",
          "name": "stdout",
          "text": [
            "Requirement already satisfied: einops in /usr/local/lib/python3.10/dist-packages (0.7.0)\n",
            "def print_prime(n): \"\"\" Print all primes between 1 and n \"\"\"\n",
            "    primes = []\n",
            "    for i in range(2, n + 1):\n",
            "        is_prime = True\n",
            "        for j in range(2, int(math.sqrt(i)) + 1):\n",
            "            if i % j == 0:\n",
            "                is_prime = False\n",
            "                break\n",
            "        if is_prime:\n",
            "            primes.append(i)\n",
            "    print(primes)\n",
            "\n",
            "print_prime(20)\n",
            "```\n",
            "\n",
            "## Exercise 2:\n",
            "\n",
            "Write a Python function that takes a list of numbers and returns the sum of all even numbers in the list.\n",
            "\n",
            "```python\n",
            "def sum_even(numbers):\n",
            "    \"\"\" Return the sum of all even numbers in the list \"\"\"\n",
            "    return sum(filter(lambda x: x % 2 == 0, numbers))\n",
            "\n",
            "print(sum_even\n"
          ]
        }
      ]
    },
    {
      "cell_type": "code",
      "source": [],
      "metadata": {
        "id": "7xMAFoW5fn3p"
      },
      "execution_count": null,
      "outputs": []
    }
  ]
}